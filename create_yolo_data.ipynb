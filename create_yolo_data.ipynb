{
 "cells": [
  {
   "cell_type": "code",
   "execution_count": 13,
   "id": "7c95e4a0-f431-415a-a23c-b80af64f700e",
   "metadata": {},
   "outputs": [],
   "source": [
    "import glob\n",
    "import os\n",
    "import shutil\n",
    "from tqdm import tqdm"
   ]
  },
  {
   "cell_type": "code",
   "execution_count": 2,
   "id": "55f033e5-cd6e-44f7-9788-df28f461883d",
   "metadata": {},
   "outputs": [],
   "source": [
    "os.mkdir('NEW_YOLO_data')\n",
    "os.mkdir('NEW_YOLO_data/images')\n",
    "os.mkdir('NEW_YOLO_data/labels')\n",
    "\n",
    "os.mkdir('NEW_YOLO_data/images/train')\n",
    "os.mkdir('NEW_YOLO_data/images/validation')\n",
    "os.mkdir('NEW_YOLO_data/labels/train')\n",
    "os.mkdir('NEW_YOLO_data/labels/validation')"
   ]
  },
  {
   "cell_type": "code",
   "execution_count": 27,
   "id": "b91a103f-54f4-4e5b-9f35-3f102c7a711e",
   "metadata": {},
   "outputs": [],
   "source": [
    "im_paths = glob.glob('NEW_data/images/*.*')\n",
    "lab_paths = glob.glob('NEW_data/labels/*.*')"
   ]
  },
  {
   "cell_type": "code",
   "execution_count": 28,
   "id": "d708f68a-31fb-494a-9e6c-a64a4c13c746",
   "metadata": {},
   "outputs": [],
   "source": [
    "train_im_path = im_paths[:61]\n",
    "val_im_path = im_paths[61:]\n",
    "\n",
    "train_lab_path = lab_paths[:61]\n",
    "val_lab_path = lab_paths[61:]"
   ]
  },
  {
   "cell_type": "code",
   "execution_count": 29,
   "id": "a3358347-482a-48b1-af61-1f5325b49d5a",
   "metadata": {},
   "outputs": [
    {
     "name": "stderr",
     "output_type": "stream",
     "text": [
      "100%|█████████████████████████████████████████████████████████████████████████████████| 61/61 [00:00<00:00, 683.92it/s]\n",
      "100%|█████████████████████████████████████████████████████████████████████████████████| 10/10 [00:00<00:00, 588.15it/s]\n",
      "100%|█████████████████████████████████████████████████████████████████████████████████| 61/61 [00:00<00:00, 361.77it/s]\n",
      "100%|█████████████████████████████████████████████████████████████████████████████████| 10/10 [00:00<00:00, 256.39it/s]\n"
     ]
    }
   ],
   "source": [
    "for i in tqdm(train_im_path):\n",
    "    shutil.copy(i, 'NEW_YOLO_data/images/train/' + i.split('\\\\')[-1])\n",
    "for i in tqdm(val_im_path):\n",
    "    shutil.copy(i, 'NEW_YOLO_data/images/validation/' + i.split('\\\\')[-1])\n",
    "\n",
    "for i in tqdm(train_lab_path):\n",
    "    shutil.copy(i, 'NEW_YOLO_data/labels/train/' + i.split('\\\\')[-1])\n",
    "for i in tqdm(val_lab_path):\n",
    "    shutil.copy(i, 'NEW_YOLO_data/labels/validation/' + i.split('\\\\')[-1])"
   ]
  },
  {
   "cell_type": "code",
   "execution_count": 44,
   "id": "24bef294-eec8-4e74-a5dd-fda254b90f49",
   "metadata": {},
   "outputs": [
    {
     "data": {
      "text/plain": [
       "['YOLO_data/newsp/labels/validation\\\\028.txt',\n",
       " 'YOLO_data/newsp/labels/validation\\\\029.txt',\n",
       " 'YOLO_data/newsp/labels/validation\\\\030.txt',\n",
       " 'YOLO_data/newsp/labels/validation\\\\031.txt',\n",
       " 'YOLO_data/newsp/labels/validation\\\\032.txt']"
      ]
     },
     "execution_count": 44,
     "metadata": {},
     "output_type": "execute_result"
    }
   ],
   "source": [
    "glob.glob('YOLO_data/labels/validation/*.*')"
   ]
  },
  {
   "cell_type": "code",
   "execution_count": 45,
   "id": "99c8bbbc-177e-47b5-9863-e872d548ded3",
   "metadata": {},
   "outputs": [],
   "source": [
    "with open('YOLO_data/train.txt', 'w') as f:\n",
    "    for i in glob.glob('YOLO_data/images/train/*.*'):\n",
    "        f.write(i)\n",
    "        f.write('\\n')\n",
    "    for i in glob.glob('YOLO_data/labels/train/*.*'):\n",
    "        f.write(i)\n",
    "        f.write('\\n')\n",
    "\n",
    "with open('YOLO_data/validation.txt', 'w') as f:\n",
    "    for i in glob.glob('YOLO_data/images/validation/*.*'):\n",
    "        f.write(i)\n",
    "        f.write('\\n')\n",
    "    for i in glob.glob('YOLO_data/labels/validation/*.*'):\n",
    "        f.write(i)\n",
    "        f.write('\\n')"
   ]
  },
  {
   "cell_type": "code",
   "execution_count": null,
   "id": "c3591b0c-0e6e-40ca-8b12-fc26bcb4cb3d",
   "metadata": {},
   "outputs": [],
   "source": []
  }
 ],
 "metadata": {
  "kernelspec": {
   "display_name": "Python 3 (ipykernel)",
   "language": "python",
   "name": "python3"
  },
  "language_info": {
   "codemirror_mode": {
    "name": "ipython",
    "version": 3
   },
   "file_extension": ".py",
   "mimetype": "text/x-python",
   "name": "python",
   "nbconvert_exporter": "python",
   "pygments_lexer": "ipython3",
   "version": "3.9.7"
  }
 },
 "nbformat": 4,
 "nbformat_minor": 5
}
